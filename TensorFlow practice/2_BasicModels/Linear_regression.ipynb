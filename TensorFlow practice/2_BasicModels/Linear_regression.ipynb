{
 "cells": [
  {
   "cell_type": "code",
   "execution_count": 1,
   "metadata": {},
   "outputs": [],
   "source": [
    "import tensorflow as tf\n",
    "import numpy as np"
   ]
  },
  {
   "cell_type": "code",
   "execution_count": 2,
   "metadata": {},
   "outputs": [],
   "source": [
    "learning_rate = 0.01\n",
    "training_steps = 1000\n",
    "display_step = 50"
   ]
  },
  {
   "cell_type": "code",
   "execution_count": 3,
   "metadata": {},
   "outputs": [],
   "source": [
    "X = np.array([3.3,4.4,5.5,6.71,6.93,4.168,9.779,6.182,7.59,2.167,\n",
    "              7.042,10.791,5.313,7.997,5.654,9.27,3.1])\n",
    "Y = np.array([1.7,2.76,2.09,3.19,1.694,1.573,3.366,2.596,2.53,1.221,\n",
    "              2.827,3.465,1.65,2.904,2.42,2.94,1.3])\n",
    "n_samples = X.shape[0]"
   ]
  },
  {
   "cell_type": "code",
   "execution_count": 4,
   "metadata": {},
   "outputs": [],
   "source": [
    "W = tf.Variable(np.random.randn(), name=\"weight\")\n",
    "b = tf.Variable(np.random.randn(), name=\"bias\")\n",
    "\n",
    "def linear_regression(x):\n",
    "    return W * x + b\n",
    "\n",
    "def mean_square(y_pred, y_true):\n",
    "    return tf.reduce_sum(tf.pow(y_pred-y_true,2))/ (2*n_samples)\n",
    "\n",
    "optimizer = tf.optimizers.SGD(learning_rate)"
   ]
  },
  {
   "cell_type": "code",
   "execution_count": 5,
   "metadata": {},
   "outputs": [],
   "source": [
    "def run_optimization():\n",
    "    with tf.GradientTape() as g:\n",
    "        pred = linear_regression(X)\n",
    "        loss = mean_square(pred, Y)\n",
    "        \n",
    "        gradients = g.gradient(loss, [W,b])\n",
    "        \n",
    "        optimizer.apply_gradients(zip(gradients, [W,b]))"
   ]
  },
  {
   "cell_type": "code",
   "execution_count": 6,
   "metadata": {},
   "outputs": [
    {
     "name": "stdout",
     "output_type": "stream",
     "text": [
      "step: 50, loss: 0.115526, w: 0.363017, b: 0.009152\n",
      "step: 100, loss: 0.111111, w: 0.356454, b: 0.055679\n",
      "step: 150, loss: 0.107202, w: 0.350278, b: 0.099464\n",
      "step: 200, loss: 0.103740, w: 0.344466, b: 0.140670\n",
      "step: 250, loss: 0.100673, w: 0.338996, b: 0.179448\n",
      "step: 300, loss: 0.097958, w: 0.333849, b: 0.215941\n",
      "step: 350, loss: 0.095552, w: 0.329005, b: 0.250284\n",
      "step: 400, loss: 0.093422, w: 0.324446, b: 0.282603\n",
      "step: 450, loss: 0.091536, w: 0.320156, b: 0.313018\n",
      "step: 500, loss: 0.089865, w: 0.316119, b: 0.341641\n",
      "step: 550, loss: 0.088386, w: 0.312319, b: 0.368577\n",
      "step: 600, loss: 0.087076, w: 0.308744, b: 0.393926\n",
      "step: 650, loss: 0.085915, w: 0.305379, b: 0.417782\n",
      "step: 700, loss: 0.084887, w: 0.302212, b: 0.440232\n",
      "step: 750, loss: 0.083977, w: 0.299232, b: 0.461359\n",
      "step: 800, loss: 0.083171, w: 0.296428, b: 0.481242\n",
      "step: 850, loss: 0.082457, w: 0.293788, b: 0.499953\n",
      "step: 900, loss: 0.081825, w: 0.291305, b: 0.517561\n",
      "step: 950, loss: 0.081265, w: 0.288967, b: 0.534132\n",
      "step: 1000, loss: 0.080769, w: 0.286768, b: 0.549727\n"
     ]
    }
   ],
   "source": [
    "for step in range(1, training_steps+1):\n",
    "    run_optimization()\n",
    "    \n",
    "    if step % display_step == 0:\n",
    "        pred = linear_regression(X)\n",
    "        loss = mean_square(pred, Y)\n",
    "        print(\"step: %i, loss: %f, w: %f, b: %f\" %(step, loss, W.numpy(), b.numpy()))"
   ]
  },
  {
   "cell_type": "code",
   "execution_count": 7,
   "metadata": {},
   "outputs": [],
   "source": [
    "import matplotlib.pyplot as plt"
   ]
  },
  {
   "cell_type": "code",
   "execution_count": 8,
   "metadata": {},
   "outputs": [
    {
     "data": {
      "image/png": "[encoded data removed]",
      "text/plain": [
       "<Figure size 432x288 with 1 Axes>"
      ]
     },
     "metadata": {
      "needs_background": "light"
     },
     "output_type": "display_data"
    }
   ],
   "source": [
    "plt.plot(X, Y, 'ro', label='original data')\n",
    "plt.plot(X, np.array(W*X+b), label='Fitted line')\n",
    "plt.legend()\n",
    "plt.show()"
   ]
  },
  {
   "cell_type": "code",
   "execution_count": null,
   "metadata": {},
   "outputs": [],
   "source": []
  }
 ],
 "metadata": {
  "kernelspec": {
   "display_name": "Python 3",
   "language": "python",
   "name": "python3"
  },
  "language_info": {
   "codemirror_mode": {
    "name": "ipython",
    "version": 3
   },
   "file_extension": ".py",
   "mimetype": "text/x-python",
   "name": "python",
   "nbconvert_exporter": "python",
   "pygments_lexer": "ipython3",
   "version": "3.7.3"
  }
 },
 "nbformat": 4,
 "nbformat_minor": 2
}
